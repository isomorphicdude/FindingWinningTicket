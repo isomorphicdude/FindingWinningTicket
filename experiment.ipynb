{
 "cells": [
  {
   "cell_type": "markdown",
   "metadata": {},
   "source": [
    "# Testing\n",
    "\n",
    "A notebook to test the implementation"
   ]
  },
  {
   "cell_type": "code",
   "execution_count": 1,
   "metadata": {},
   "outputs": [
    {
     "name": "stdout",
     "output_type": "stream",
     "text": [
      "[PhysicalDevice(name='/physical_device:GPU:0', device_type='GPU')]\n"
     ]
    }
   ],
   "source": [
    "import gzip\n",
    "import numpy as np\n",
    "import pandas as pd\n",
    "import tensorflow as tf\n",
    "import tensorflow_datasets as tfds\n",
    "import matplotlib.pyplot as plt\n",
    "print(tf.config.list_physical_devices('GPU'))"
   ]
  },
  {
   "cell_type": "markdown",
   "metadata": {},
   "source": [
    "## 0 Preprocessing"
   ]
  },
  {
   "cell_type": "markdown",
   "metadata": {},
   "source": [
    "For testing, we use the `MNIST` data. We first extract the data from `gzip` file."
   ]
  },
  {
   "cell_type": "code",
   "execution_count": 2,
   "metadata": {},
   "outputs": [],
   "source": [
    "# prepare data\n",
    "def get_imgs(dir):\n",
    "    with gzip.open(dir, 'r') as f:\n",
    "        # first 4 bytes (some number)\n",
    "        _ = int.from_bytes(f.read(4), 'big')\n",
    "        # no. of images\n",
    "        num_imgs = int.from_bytes(f.read(4), 'big')\n",
    "        # row count\n",
    "        row_cnt = int.from_bytes(f.read(4), 'big')\n",
    "        # column count\n",
    "        col_cnt = int.from_bytes(f.read(4), 'big')\n",
    "\n",
    "        img_data = f.read()\n",
    "        images = np.frombuffer(img_data, dtype=np.uint8).\\\n",
    "            reshape((num_imgs, row_cnt, col_cnt))\n",
    "        return images\n",
    "\n",
    "def get_labels(dir):\n",
    "    with gzip.open(dir, 'r') as f:\n",
    "        _ = int.from_bytes(f.read(4), 'big')\n",
    "        label_cnt = int.from_bytes(f.read(4), 'big')\n",
    "        print(label_cnt)\n",
    "        label_data = f.read()\n",
    "        labels = np.frombuffer(label_data, dtype=np.uint8)\n",
    "        return labels"
   ]
  },
  {
   "cell_type": "markdown",
   "metadata": {},
   "source": [
    "We now make `dataset`. Note that we used the `tf.data.Dataset.from_tensor_slices` to create dataset from a tuple of numpy arrays; if they were instead lists, then there will be an error"
   ]
  },
  {
   "cell_type": "code",
   "execution_count": 3,
   "metadata": {},
   "outputs": [
    {
     "name": "stdout",
     "output_type": "stream",
     "text": [
      "60000\n",
      "10000\n"
     ]
    }
   ],
   "source": [
    "img_train    = get_imgs('data/train-images-idx3-ubyte.gz')\n",
    "label_train  = get_labels('data/train-labels-idx1-ubyte.gz')\n",
    "ds_train     = tf.data.Dataset.from_tensor_slices((img_train, label_train))\n",
    "\n",
    "img_test     = get_imgs('data/t10k-images-idx3-ubyte.gz')\n",
    "label_test   = get_labels('data/t10k-labels-idx1-ubyte.gz')\n",
    "ds_test      = tf.data.Dataset.from_tensor_slices((img_test, label_test))"
   ]
  },
  {
   "cell_type": "markdown",
   "metadata": {},
   "source": [
    "Check by visualizing. Uncomment the last line to visualize."
   ]
  },
  {
   "cell_type": "code",
   "execution_count": 4,
   "metadata": {},
   "outputs": [],
   "source": [
    "def look(ds):\n",
    "    for img,label in ds:\n",
    "        plt.imshow(img.numpy().astype('uint8'))\n",
    "        print(label)\n",
    "        print(np.linalg.norm(img))\n",
    "        break\n",
    "# look(ds_train)"
   ]
  },
  {
   "cell_type": "markdown",
   "metadata": {},
   "source": [
    "Preprocess the dataset: normalizing, shuffling, and batching"
   ]
  },
  {
   "cell_type": "code",
   "execution_count": 5,
   "metadata": {},
   "outputs": [],
   "source": [
    "def normalize_img(image, label):\n",
    "  \"\"\"Normalizes images: `uint8` -> `float32`.\"\"\"\n",
    "  return (tf.cast(image, tf.float32)/255.0 , label)  \n",
    "\n",
    "def preProcess(dset:tf.data.Dataset, batch_size = 128):\n",
    "  '''Pre-processes the dataset.'''\n",
    "  dset = dset.map(normalize_img)\n",
    "  dset = dset.shuffle(len(dset))\n",
    "  dset = dset.batch(batch_size)\n",
    "  return dset"
   ]
  },
  {
   "cell_type": "code",
   "execution_count": 6,
   "metadata": {},
   "outputs": [],
   "source": [
    "ds_train = preProcess(ds_train)\n",
    "ds_test = preProcess(ds_test)"
   ]
  },
  {
   "cell_type": "code",
   "execution_count": 7,
   "metadata": {},
   "outputs": [],
   "source": [
    "def reshapeImg(img, label):\n",
    "    return (tf.reshape(img, (-1,784)), label)\n",
    "    \n",
    "# for img,label in ds_train.map(reshapeImg):\n",
    "#     # plt.imshow(img[0])\n",
    "#     print(label[0])\n",
    "#     print(np.linalg.norm(img[0]))\n",
    "#     print(img.shape)\n",
    "#     break"
   ]
  },
  {
   "cell_type": "markdown",
   "metadata": {},
   "source": [
    "## 1 Running experiment"
   ]
  },
  {
   "cell_type": "markdown",
   "metadata": {},
   "source": [
    "First define some hyperparameters"
   ]
  },
  {
   "cell_type": "code",
   "execution_count": 8,
   "metadata": {},
   "outputs": [],
   "source": [
    "layers = [784, 10] # use [784, 100, 10]\n",
    "\n",
    "activation = 'relu'\n",
    "\n",
    "lr = 0.01\n",
    "\n",
    "loss_fn = tf.keras.losses.SparseCategoricalCrossentropy(from_logits=True)\n",
    "\n",
    "metrics = tf.keras.metrics.SparseCategoricalAccuracy()    \n",
    "\n",
    "train_loss = tf.keras.metrics.Mean\n",
    "\n",
    "train_acc = tf.keras.metrics.SparseCategoricalAccuracy  \n",
    "\n",
    "epochs = 1  \n",
    "\n",
    "num_pruning = 2  \n",
    "\n",
    "step_perc = 0.5"
   ]
  },
  {
   "cell_type": "code",
   "execution_count": 9,
   "metadata": {},
   "outputs": [
    {
     "name": "stdout",
     "output_type": "stream",
     "text": [
      "Model: \"ModeltoPrune\"\n",
      "_________________________________________________________________\n",
      " Layer (type)                Output Shape              Param #   \n",
      "=================================================================\n",
      " dense (Dense)               (None, 784)               615440    \n",
      "                                                                 \n",
      " dense_1 (Dense)             (None, 10)                7850      \n",
      "                                                                 \n",
      "=================================================================\n",
      "Total params: 623,290\n",
      "Trainable params: 623,290\n",
      "Non-trainable params: 0\n",
      "_________________________________________________________________\n"
     ]
    },
    {
     "data": {
      "text/plain": [
       "<keras.engine.sequential.Sequential at 0x1f44f3b15e0>"
      ]
     },
     "execution_count": 9,
     "metadata": {},
     "output_type": "execute_result"
    }
   ],
   "source": [
    "from pruning import *\n",
    "from models import *\n",
    "\n",
    "model_params = {'layers': layers,\n",
    "                'activation': 'relu',\n",
    "                'BatchNorm':False,\n",
    "                'Dropout':None,\n",
    "                'optimizer': tf.keras.optimizers.Adam(lr),\n",
    "                'loss_fn': loss_fn,\n",
    "                'metrics': metrics\n",
    "                }\n",
    "\n",
    "train_params = {'train_loss': train_loss,\n",
    "                'train_acc': train_acc\n",
    "                }\n",
    "\n",
    "prune_exp = pruning(ds_train.map(reshapeImg), ds_test.map(reshapeImg), model_params,\n",
    "                    train_params,\n",
    "                    epochs, num_pruning, step_perc)\n",
    "\n",
    "prune_exp.makeModel()\n",
    "# prune_exp.test_run()"
   ]
  },
  {
   "cell_type": "code",
   "execution_count": 10,
   "metadata": {},
   "outputs": [
    {
     "name": "stdout",
     "output_type": "stream",
     "text": [
      "\n",
      " \n",
      " Iterative pruning round: 0 \n",
      " \n",
      "\n",
      "Model: \"ModeltoPrune\"\n",
      "_________________________________________________________________\n",
      " Layer (type)                Output Shape              Param #   \n",
      "=================================================================\n",
      " dense_2 (Dense)             (None, 784)               615440    \n",
      "                                                                 \n",
      " dense_3 (Dense)             (None, 10)                7850      \n",
      "                                                                 \n",
      "=================================================================\n",
      "Total params: 623,290\n",
      "Trainable params: 623,290\n",
      "Non-trainable params: 0\n",
      "_________________________________________________________________\n",
      "\n",
      " Start original model training. \n",
      "\n",
      "Epoch 0 for original \n",
      "\n",
      "Model: \"ModeltoPrune\"\n",
      "_________________________________________________________________\n",
      " Layer (type)                Output Shape              Param #   \n",
      "=================================================================\n",
      " dense_4 (Dense)             (None, 784)               615440    \n",
      "                                                                 \n",
      " dense_5 (Dense)             (None, 10)                7850      \n",
      "                                                                 \n",
      "=================================================================\n",
      "Total params: 623,290\n",
      "Trainable params: 623,290\n",
      "Non-trainable params: 0\n",
      "_________________________________________________________________\n",
      "\n",
      " \n",
      " After pruning, the total no. of nonzero weights is: 311248 \n",
      " \n",
      "\n",
      "\n",
      " Start Lottery ticket training \n",
      "\n",
      "Epoch 0 for lottery ticket \n",
      "\n",
      "\n",
      " Early stop, ticket accuracy: 0.9236000180244446 \n",
      "\n",
      "INFO:tensorflow:Assets written to: saved_models/ticket_acc_0.9236000180244446pruning round_0\\assets\n",
      "INFO:tensorflow:Assets written to: saved_models/ticket_acc_0.9236000180244446 pruning round_0\\assets\n",
      "\n",
      " \n",
      " Iterative pruning round: 1 \n",
      " \n",
      "\n",
      "Model: \"ModeltoPrune\"\n",
      "_________________________________________________________________\n",
      " Layer (type)                Output Shape              Param #   \n",
      "=================================================================\n",
      " dense_6 (Dense)             (None, 784)               615440    \n",
      "                                                                 \n",
      " dense_7 (Dense)             (None, 10)                7850      \n",
      "                                                                 \n",
      "=================================================================\n",
      "Total params: 623,290\n",
      "Trainable params: 623,290\n",
      "Non-trainable params: 0\n",
      "_________________________________________________________________\n",
      "\n",
      " Start original model training. \n",
      "\n",
      "Epoch 0 for original \n",
      "\n",
      "Model: \"ModeltoPrune\"\n",
      "_________________________________________________________________\n",
      " Layer (type)                Output Shape              Param #   \n",
      "=================================================================\n",
      " dense_8 (Dense)             (None, 784)               615440    \n",
      "                                                                 \n",
      " dense_9 (Dense)             (None, 10)                7850      \n",
      "                                                                 \n",
      "=================================================================\n",
      "Total params: 623,290\n",
      "Trainable params: 623,290\n",
      "Non-trainable params: 0\n",
      "_________________________________________________________________\n",
      "\n",
      " \n",
      " After pruning, the total no. of nonzero weights is: 114039 \n",
      " \n",
      "\n",
      "\n",
      " Start Lottery ticket training \n",
      "\n",
      "Epoch 0 for lottery ticket \n",
      "\n",
      "\n",
      " Early stop, ticket accuracy: 0.6601999998092651 \n",
      "\n",
      "INFO:tensorflow:Assets written to: saved_models/ticket_acc_0.6601999998092651pruning round_1\\assets\n",
      "INFO:tensorflow:Assets written to: saved_models/ticket_acc_0.6601999998092651 pruning round_1\\assets\n"
     ]
    }
   ],
   "source": [
    "prune_exp.prune()"
   ]
  }
 ],
 "metadata": {
  "kernelspec": {
   "display_name": "Python 3.8.13 ('base')",
   "language": "python",
   "name": "python3"
  },
  "language_info": {
   "codemirror_mode": {
    "name": "ipython",
    "version": 3
   },
   "file_extension": ".py",
   "mimetype": "text/x-python",
   "name": "python",
   "nbconvert_exporter": "python",
   "pygments_lexer": "ipython3",
   "version": "3.8.13"
  },
  "orig_nbformat": 4,
  "vscode": {
   "interpreter": {
    "hash": "214ae085943121352a1c46be52870768915bb1800a79b1ca0ca08a53dfbff110"
   }
  }
 },
 "nbformat": 4,
 "nbformat_minor": 2
}
