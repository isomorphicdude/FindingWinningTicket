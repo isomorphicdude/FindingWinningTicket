{
 "cells": [
  {
   "cell_type": "markdown",
   "metadata": {},
   "source": [
    "# Testing\n",
    "\n",
    "A notebook to test the implementation"
   ]
  },
  {
   "cell_type": "code",
   "execution_count": 1,
   "metadata": {},
   "outputs": [
    {
     "name": "stderr",
     "output_type": "stream",
     "text": [
      "/Users/customer/miniforge3/lib/python3.9/site-packages/tqdm/auto.py:22: TqdmWarning: IProgress not found. Please update jupyter and ipywidgets. See https://ipywidgets.readthedocs.io/en/stable/user_install.html\n",
      "  from .autonotebook import tqdm as notebook_tqdm\n"
     ]
    },
    {
     "name": "stdout",
     "output_type": "stream",
     "text": [
      "[PhysicalDevice(name='/physical_device:GPU:0', device_type='GPU')]\n"
     ]
    }
   ],
   "source": [
    "import gzip\n",
    "import numpy as np\n",
    "import tensorflow as tf\n",
    "import tensorflow_datasets as tfds\n",
    "import matplotlib.pyplot as plt\n",
    "print(tf.config.list_physical_devices('GPU'))"
   ]
  },
  {
   "cell_type": "markdown",
   "metadata": {},
   "source": [
    "## 0 Preprocessing"
   ]
  },
  {
   "cell_type": "markdown",
   "metadata": {},
   "source": [
    "For testing, we use the `MNIST` data. We first extract the data from `gzip` file."
   ]
  },
  {
   "cell_type": "code",
   "execution_count": 2,
   "metadata": {},
   "outputs": [],
   "source": [
    "def normalize_img(image, label):\n",
    "  \"\"\"Normalizes images: `uint8` -> `float32`.\"\"\"\n",
    "  return (tf.cast(image, tf.float32)/255.0 , label)  \n",
    "\n",
    "def preProcess(dset, batch_size):\n",
    "  '''Pre-processes the dataset.'''\n",
    "  dset = dset.map(normalize_img)\n",
    "  dset = dset.shuffle(len(dset))\n",
    "  dset = dset.batch(batch_size)\n",
    "  return dset\n",
    "  \n",
    "# prepare data\n",
    "def get_imgs(dir):\n",
    "    with gzip.open(dir, 'r') as f:\n",
    "        # first 4 bytes (some number)\n",
    "        _ = int.from_bytes(f.read(4), 'big')\n",
    "        # no. of images\n",
    "        num_imgs = int.from_bytes(f.read(4), 'big')\n",
    "        # row count\n",
    "        row_cnt = int.from_bytes(f.read(4), 'big')\n",
    "        # column count\n",
    "        col_cnt = int.from_bytes(f.read(4), 'big')\n",
    "\n",
    "        img_data = f.read()\n",
    "        images = np.frombuffer(img_data, dtype=np.uint8).\\\n",
    "            reshape((num_imgs, row_cnt, col_cnt))\n",
    "        return images\n",
    "\n",
    "def get_labels(dir):\n",
    "    with gzip.open(dir, 'r') as f:\n",
    "        _ = int.from_bytes(f.read(4), 'big')\n",
    "        label_cnt = int.from_bytes(f.read(4), 'big')\n",
    "        print(label_cnt)\n",
    "        label_data = f.read()\n",
    "        labels = np.frombuffer(label_data, dtype=np.uint8)\n",
    "        return labels"
   ]
  },
  {
   "cell_type": "markdown",
   "metadata": {},
   "source": [
    "We now make `dataset`. Note that we used the `tf.data.Dataset.from_tensor_slices` to create dataset from a tuple of numpy arrays; if they were instead lists, then there will be an error"
   ]
  },
  {
   "cell_type": "code",
   "execution_count": 3,
   "metadata": {},
   "outputs": [],
   "source": [
    "def getLocalDset(batch_size = 128):\n",
    "    imgs     = get_imgs('data/train-images-idx3-ubyte.gz')\n",
    "    labels   = get_labels('data/train-labels-idx1-ubyte.gz')\n",
    "    split    = int(0.75*len(imgs))\n",
    "    ds_train = tf.data.Dataset.from_tensor_slices((imgs[:split], labels[:split]))\n",
    "    ds_test  = tf.data.Dataset.from_tensor_slices((imgs[split:], labels[split:]))\n",
    "    print(len(ds_train))\n",
    "    print(len(ds_test))\n",
    "    return preProcess(ds_train, batch_size), preProcess(ds_test, batch_size)"
   ]
  },
  {
   "cell_type": "markdown",
   "metadata": {},
   "source": [
    "We can also get the data by downloading"
   ]
  },
  {
   "cell_type": "code",
   "execution_count": 4,
   "metadata": {},
   "outputs": [
    {
     "name": "stdout",
     "output_type": "stream",
     "text": [
      "Metal device set to: Apple M1\n",
      "\n",
      "systemMemory: 8.00 GB\n",
      "maxCacheSize: 2.67 GB\n",
      "\n"
     ]
    },
    {
     "name": "stderr",
     "output_type": "stream",
     "text": [
      "2022-08-24 19:21:07.996315: I tensorflow/core/common_runtime/pluggable_device/pluggable_device_factory.cc:305] Could not identify NUMA node of platform GPU ID 0, defaulting to 0. Your kernel may not have been built with NUMA support.\n",
      "2022-08-24 19:21:07.996518: I tensorflow/core/common_runtime/pluggable_device/pluggable_device_factory.cc:271] Created TensorFlow device (/job:localhost/replica:0/task:0/device:GPU:0 with 0 MB memory) -> physical PluggableDevice (device: 0, name: METAL, pci bus id: <undefined>)\n"
     ]
    }
   ],
   "source": [
    "def fetch_img(ds, batch_size = 128):\n",
    "  ds = ds.cache()\n",
    "  # ds = ds.shuffle(ds_info.splits['train'].num_examples)\n",
    "  ds = ds.batch(batch_size)\n",
    "  # ds = ds.prefetch(tf.data.AUTOTUNE)\n",
    "  return ds\n",
    "\n",
    "def getRemoteDset(batch_size = 128, name = 'MNIST'):\n",
    "\n",
    "  '''Prepares the MNIST dataset for training.'''  \n",
    "\n",
    "  if name == 'MNIST':\n",
    "    (ds_train, ds_test), ds_info = tfds.load(\n",
    "    'mnist',\n",
    "    # split=['test', 'train[0%:10%]','train[10%:]'],\n",
    "    split = ['train', 'test'],\n",
    "    shuffle_files=True,\n",
    "    as_supervised=True,\n",
    "    with_info = True\n",
    "    )\n",
    "\n",
    "  ds_train = ds_train.map(normalize_img, \n",
    "                          num_parallel_calls=tf.data.AUTOTUNE)\n",
    "  ds_test = ds_test.map(normalize_img, \n",
    "                          num_parallel_calls=tf.data.AUTOTUNE)\n",
    "  ds_train = fetch_img(ds_train, batch_size)\n",
    "  ds_test = fetch_img(ds_test, batch_size)\n",
    "\n",
    "  return (ds_train, ds_test), ds_info\n",
    "\n",
    "(ds_train, ds_test), ds_info = getRemoteDset()"
   ]
  },
  {
   "cell_type": "markdown",
   "metadata": {},
   "source": [
    "## 1 Running experiment"
   ]
  },
  {
   "cell_type": "markdown",
   "metadata": {},
   "source": [
    "First define some hyperparameters"
   ]
  },
  {
   "cell_type": "code",
   "execution_count": 5,
   "metadata": {},
   "outputs": [],
   "source": [
    "layers = [300, 100]\n",
    "\n",
    "activation = 'relu'\n",
    "\n",
    "lr = 0.001\n",
    "\n",
    "patience = 3\n",
    "\n",
    "loss_fn = tf.keras.losses.SparseCategoricalCrossentropy(from_logits=True)\n",
    "\n",
    "metrics = tf.keras.metrics.SparseCategoricalAccuracy()    \n",
    "\n",
    "train_loss = tf.keras.metrics.Mean\n",
    "\n",
    "train_acc = tf.keras.metrics.SparseCategoricalAccuracy  \n",
    "\n",
    "epochs = 1 # use a much bigger int\n",
    "\n",
    "num_pruning = 1 # use 5 or more  \n",
    "\n",
    "step_perc = 0.5"
   ]
  },
  {
   "cell_type": "code",
   "execution_count": 6,
   "metadata": {},
   "outputs": [],
   "source": [
    "from pruning import *\n",
    "from models import *\n",
    "\n",
    "model_params = {'input_shape': (28, 28, 1),\n",
    "                'output_shape': 10,\n",
    "                'layers': layers,\n",
    "                'activation': 'relu',\n",
    "                'BatchNorm':False,\n",
    "                'Dropout': [0.5,0.5,0.5],\n",
    "                'optimizer': tf.keras.optimizers.Adam(lr),\n",
    "                'loss_fn': loss_fn,\n",
    "                'metrics': metrics\n",
    "                }\n",
    "\n",
    "train_params = {'train_loss': train_loss,\n",
    "                'train_acc': train_acc,\n",
    "                'patience': 3\n",
    "                }\n",
    "\n",
    "prune_exp = pruning(ds_train, ds_test, model_params,\n",
    "                    train_params,\n",
    "                    epochs, num_pruning, step_perc)\n",
    "                    \n",
    "# prune_exp.test_training()\n",
    "# prune_exp.test_model()"
   ]
  },
  {
   "cell_type": "code",
   "execution_count": 7,
   "metadata": {},
   "outputs": [
    {
     "name": "stdout",
     "output_type": "stream",
     "text": [
      "\n",
      " \n",
      " Iterative pruning round: 0 \n",
      " \n",
      "\n",
      "\n",
      " \n",
      " After pruning, the total no. of nonzero weights is: 266200 \n",
      " \n",
      "\n",
      "\n",
      " Start original model training. \n",
      "\n",
      "Epoch 0 for original\n"
     ]
    },
    {
     "name": "stderr",
     "output_type": "stream",
     "text": [
      "2022-08-24 19:21:10.488167: W tensorflow/core/platform/profile_utils/cpu_utils.cc:128] Failed to get CPU frequency: 0 Hz\n",
      "2022-08-24 19:21:10.664992: I tensorflow/core/grappler/optimizers/custom_graph_optimizer_registry.cc:113] Plugin optimizer for device_type GPU is enabled.\n",
      "2022-08-24 19:21:13.674668: I tensorflow/core/grappler/optimizers/custom_graph_optimizer_registry.cc:113] Plugin optimizer for device_type GPU is enabled.\n",
      "2022-08-24 19:21:13.798093: I tensorflow/core/grappler/optimizers/custom_graph_optimizer_registry.cc:113] Plugin optimizer for device_type GPU is enabled.\n"
     ]
    },
    {
     "name": "stdout",
     "output_type": "stream",
     "text": [
      "OG train acc 0.8447166681289673\n"
     ]
    },
    {
     "name": "stderr",
     "output_type": "stream",
     "text": [
      "2022-08-24 19:21:14.202212: I tensorflow/core/grappler/optimizers/custom_graph_optimizer_registry.cc:113] Plugin optimizer for device_type GPU is enabled.\n"
     ]
    },
    {
     "name": "stdout",
     "output_type": "stream",
     "text": [
      "Original model accuracy 0.9488000273704529 \n",
      "\n",
      "\n",
      " \n",
      " After pruning, the total no. of nonzero weights is: 133100 \n",
      " \n",
      "\n",
      "\n",
      " Start Lottery ticket training \n",
      "\n",
      "Epoch 0 for lottery ticket\n"
     ]
    },
    {
     "name": "stderr",
     "output_type": "stream",
     "text": [
      "2022-08-24 19:21:14.428535: I tensorflow/core/grappler/optimizers/custom_graph_optimizer_registry.cc:113] Plugin optimizer for device_type GPU is enabled.\n",
      "2022-08-24 19:21:17.235318: I tensorflow/core/grappler/optimizers/custom_graph_optimizer_registry.cc:113] Plugin optimizer for device_type GPU is enabled.\n",
      "2022-08-24 19:21:17.344765: I tensorflow/core/grappler/optimizers/custom_graph_optimizer_registry.cc:113] Plugin optimizer for device_type GPU is enabled.\n"
     ]
    },
    {
     "name": "stdout",
     "output_type": "stream",
     "text": [
      "Ticket train acc 0.4596500098705292 \n",
      "\n"
     ]
    },
    {
     "name": "stderr",
     "output_type": "stream",
     "text": [
      "2022-08-24 19:21:17.569792: I tensorflow/core/grappler/optimizers/custom_graph_optimizer_registry.cc:113] Plugin optimizer for device_type GPU is enabled.\n"
     ]
    },
    {
     "name": "stdout",
     "output_type": "stream",
     "text": [
      "Lottery ticket accuracy 0.8523000478744507 \n",
      "\n",
      "\n",
      " Lottery ticket training finished. Highest Accuracy 0.8523000478744507 \n",
      "\n",
      "INFO:tensorflow:Assets written to: saved_models/ticket_acc_0.8523000478744507 pruning round_0/assets\n"
     ]
    },
    {
     "name": "stderr",
     "output_type": "stream",
     "text": [
      "INFO:tensorflow:Assets written to: saved_models/ticket_acc_0.8523000478744507 pruning round_0/assets\n"
     ]
    }
   ],
   "source": [
    "prune_exp.prune()"
   ]
  },
  {
   "cell_type": "code",
   "execution_count": 8,
   "metadata": {},
   "outputs": [
    {
     "name": "stdout",
     "output_type": "stream",
     "text": [
      "Removing 20220824-191036\n",
      "Removing 20220824-191031\n",
      "Removing 20220824-191630\n",
      "Removing 20220824-191329\n",
      "Removing 20220824-192110\n",
      "Removing 20220824-190623\n",
      "Removing 20220824-185646\n"
     ]
    }
   ],
   "source": [
    "prune_exp.removeLogs()"
   ]
  },
  {
   "cell_type": "code",
   "execution_count": 9,
   "metadata": {},
   "outputs": [
    {
     "name": "stdout",
     "output_type": "stream",
     "text": [
      "Removing ticket_acc_0.8523000478744507 pruning round_0\n"
     ]
    }
   ],
   "source": [
    "prune_exp.removeModels()"
   ]
  },
  {
   "cell_type": "code",
   "execution_count": null,
   "metadata": {},
   "outputs": [],
   "source": []
  }
 ],
 "metadata": {
  "kernelspec": {
   "display_name": "Python 3.9.13 ('base')",
   "language": "python",
   "name": "python3"
  },
  "language_info": {
   "codemirror_mode": {
    "name": "ipython",
    "version": 3
   },
   "file_extension": ".py",
   "mimetype": "text/x-python",
   "name": "python",
   "nbconvert_exporter": "python",
   "pygments_lexer": "ipython3",
   "version": "3.9.13"
  },
  "orig_nbformat": 4,
  "vscode": {
   "interpreter": {
    "hash": "c63bf7c73efbaa60a9891fdddd1e96dd0cc596469d20228077150d640c222586"
   }
  }
 },
 "nbformat": 4,
 "nbformat_minor": 2
}
